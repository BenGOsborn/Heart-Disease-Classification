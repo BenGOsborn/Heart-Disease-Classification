{
 "cells": [
  {
   "cell_type": "markdown",
   "metadata": {},
   "source": [
    "# Heart disease EDA, classification and understanding"
   ]
  },
  {
   "cell_type": "markdown",
   "metadata": {},
   "source": [
    "## Dataset used: https://www.kaggle.com/ronitf/heart-disease-uci"
   ]
  },
  {
   "cell_type": "markdown",
   "metadata": {},
   "source": [
    "## Features:\n",
    "\n",
    "#### 1. age\n",
    "#### 2. sex\n",
    "#### 3. chest pain type (4 values) (the severity of chest pain the patient experienced)\n",
    "#### 4. resting blood pressure\n",
    "#### 5. serum cholestoral in mg/dl (the serum cholestoral level of the patient)\n",
    "#### 6. fasting blood sugar > 120 mg/dl (if the patients blood sugar when fasting is greater than 120)\n",
    "#### 7. resting electrocardiographic results (values 0,1,2) (results of the patient after an electrocardiography process)\n",
    "#### 8. maximum heart rate achieved\n",
    "#### 9. exercise induced angina (whether the patient experienced execercise induced angina)\n",
    "#### 10. oldpeak = ST depression induced by exercise relative to rest\n",
    "#### 11. the slope of the peak exercise ST segment\n",
    "#### 12. number of major vessels (0-3) colored by flourosopy (shows up on the scan)\n",
    "#### 13. thal: 3 = normal; 6 = fixed defect; 7 = reversable defect"
   ]
  },
  {
   "cell_type": "markdown",
   "metadata": {},
   "source": [
    "## Questions:\n",
    "\n",
    "#### - What age group is most at risk of heart disease?\n",
    "#### - Is heart disease commonly reversable?\n",
    "#### - What gender is most at risk of heart disease?\n",
    "#### - What blood pressures are typically associated with heart disease?"
   ]
  },
  {
   "cell_type": "markdown",
   "metadata": {},
   "source": [
    "### Loading the data"
   ]
  },
  {
   "cell_type": "code",
   "execution_count": 1,
   "metadata": {},
   "outputs": [
    {
     "data": {
      "text/html": [
       "<div>\n",
       "<style scoped>\n",
       "    .dataframe tbody tr th:only-of-type {\n",
       "        vertical-align: middle;\n",
       "    }\n",
       "\n",
       "    .dataframe tbody tr th {\n",
       "        vertical-align: top;\n",
       "    }\n",
       "\n",
       "    .dataframe thead th {\n",
       "        text-align: right;\n",
       "    }\n",
       "</style>\n",
       "<table border=\"1\" class=\"dataframe\">\n",
       "  <thead>\n",
       "    <tr style=\"text-align: right;\">\n",
       "      <th></th>\n",
       "      <th>age</th>\n",
       "      <th>sex</th>\n",
       "      <th>chest_pain_type</th>\n",
       "      <th>resting_blood_pressure</th>\n",
       "      <th>serum_cholestoral</th>\n",
       "      <th>fasting_blood_sugar&gt;120</th>\n",
       "      <th>electrocardiographic_results</th>\n",
       "      <th>max_heart_rate</th>\n",
       "      <th>excercise_induced_angina</th>\n",
       "      <th>st_depression_while resting</th>\n",
       "      <th>excercise_st_segment_slope</th>\n",
       "      <th>flouroscopy_colored_vessels</th>\n",
       "      <th>defect_type</th>\n",
       "      <th>has_heart_disease</th>\n",
       "    </tr>\n",
       "  </thead>\n",
       "  <tbody>\n",
       "    <tr>\n",
       "      <td>0</td>\n",
       "      <td>63</td>\n",
       "      <td>1</td>\n",
       "      <td>3</td>\n",
       "      <td>145</td>\n",
       "      <td>233</td>\n",
       "      <td>1</td>\n",
       "      <td>0</td>\n",
       "      <td>150</td>\n",
       "      <td>0</td>\n",
       "      <td>2.3</td>\n",
       "      <td>0</td>\n",
       "      <td>0</td>\n",
       "      <td>1</td>\n",
       "      <td>1</td>\n",
       "    </tr>\n",
       "    <tr>\n",
       "      <td>1</td>\n",
       "      <td>37</td>\n",
       "      <td>1</td>\n",
       "      <td>2</td>\n",
       "      <td>130</td>\n",
       "      <td>250</td>\n",
       "      <td>0</td>\n",
       "      <td>1</td>\n",
       "      <td>187</td>\n",
       "      <td>0</td>\n",
       "      <td>3.5</td>\n",
       "      <td>0</td>\n",
       "      <td>0</td>\n",
       "      <td>2</td>\n",
       "      <td>1</td>\n",
       "    </tr>\n",
       "    <tr>\n",
       "      <td>2</td>\n",
       "      <td>41</td>\n",
       "      <td>0</td>\n",
       "      <td>1</td>\n",
       "      <td>130</td>\n",
       "      <td>204</td>\n",
       "      <td>0</td>\n",
       "      <td>0</td>\n",
       "      <td>172</td>\n",
       "      <td>0</td>\n",
       "      <td>1.4</td>\n",
       "      <td>2</td>\n",
       "      <td>0</td>\n",
       "      <td>2</td>\n",
       "      <td>1</td>\n",
       "    </tr>\n",
       "  </tbody>\n",
       "</table>\n",
       "</div>"
      ],
      "text/plain": [
       "   age  sex  chest_pain_type  resting_blood_pressure  serum_cholestoral  \\\n",
       "0   63    1                3                     145                233   \n",
       "1   37    1                2                     130                250   \n",
       "2   41    0                1                     130                204   \n",
       "\n",
       "   fasting_blood_sugar>120  electrocardiographic_results  max_heart_rate  \\\n",
       "0                        1                             0             150   \n",
       "1                        0                             1             187   \n",
       "2                        0                             0             172   \n",
       "\n",
       "   excercise_induced_angina  st_depression_while resting  \\\n",
       "0                         0                          2.3   \n",
       "1                         0                          3.5   \n",
       "2                         0                          1.4   \n",
       "\n",
       "   excercise_st_segment_slope  flouroscopy_colored_vessels  defect_type  \\\n",
       "0                           0                            0            1   \n",
       "1                           0                            0            2   \n",
       "2                           2                            0            2   \n",
       "\n",
       "   has_heart_disease  \n",
       "0                  1  \n",
       "1                  1  \n",
       "2                  1  "
      ]
     },
     "execution_count": 1,
     "metadata": {},
     "output_type": "execute_result"
    }
   ],
   "source": [
    "import pandas as pd\n",
    "\n",
    "df = pd.read_csv('heart.csv')\n",
    "df.columns = [\"age\", \"sex\", \"chest_pain_type\", \"resting_blood_pressure\", \"serum_cholestoral\", \"fasting_blood_sugar>120\", \"electrocardiographic_results\", \n",
    "              \"max_heart_rate\", \"excercise_induced_angina\", \"st_depression_while resting\", \"excercise_st_segment_slope\", \"flouroscopy_colored_vessels\", \n",
    "              \"defect_type\", \"has_heart_disease\"]\n",
    "df.head(3)"
   ]
  },
  {
   "cell_type": "markdown",
   "metadata": {},
   "source": [
    "### Understand the data"
   ]
  },
  {
   "cell_type": "code",
   "execution_count": 2,
   "metadata": {},
   "outputs": [
    {
     "name": "stdout",
     "output_type": "stream",
     "text": [
      "<class 'pandas.core.frame.DataFrame'>\n",
      "RangeIndex: 303 entries, 0 to 302\n",
      "Data columns (total 14 columns):\n",
      "age                             303 non-null int64\n",
      "sex                             303 non-null int64\n",
      "chest_pain_type                 303 non-null int64\n",
      "resting_blood_pressure          303 non-null int64\n",
      "serum_cholestoral               303 non-null int64\n",
      "fasting_blood_sugar>120         303 non-null int64\n",
      "electrocardiographic_results    303 non-null int64\n",
      "max_heart_rate                  303 non-null int64\n",
      "excercise_induced_angina        303 non-null int64\n",
      "st_depression_while resting     303 non-null float64\n",
      "excercise_st_segment_slope      303 non-null int64\n",
      "flouroscopy_colored_vessels     303 non-null int64\n",
      "defect_type                     303 non-null int64\n",
      "has_heart_disease               303 non-null int64\n",
      "dtypes: float64(1), int64(13)\n",
      "memory usage: 33.3 KB\n"
     ]
    }
   ],
   "source": [
    "df.info()"
   ]
  },
  {
   "cell_type": "code",
   "execution_count": 3,
   "metadata": {},
   "outputs": [
    {
     "data": {
      "text/html": [
       "<div>\n",
       "<style scoped>\n",
       "    .dataframe tbody tr th:only-of-type {\n",
       "        vertical-align: middle;\n",
       "    }\n",
       "\n",
       "    .dataframe tbody tr th {\n",
       "        vertical-align: top;\n",
       "    }\n",
       "\n",
       "    .dataframe thead th {\n",
       "        text-align: right;\n",
       "    }\n",
       "</style>\n",
       "<table border=\"1\" class=\"dataframe\">\n",
       "  <thead>\n",
       "    <tr style=\"text-align: right;\">\n",
       "      <th></th>\n",
       "      <th>age</th>\n",
       "      <th>sex</th>\n",
       "      <th>chest_pain_type</th>\n",
       "      <th>resting_blood_pressure</th>\n",
       "      <th>serum_cholestoral</th>\n",
       "      <th>fasting_blood_sugar&gt;120</th>\n",
       "      <th>electrocardiographic_results</th>\n",
       "      <th>max_heart_rate</th>\n",
       "      <th>excercise_induced_angina</th>\n",
       "      <th>st_depression_while resting</th>\n",
       "      <th>excercise_st_segment_slope</th>\n",
       "      <th>flouroscopy_colored_vessels</th>\n",
       "      <th>defect_type</th>\n",
       "      <th>has_heart_disease</th>\n",
       "    </tr>\n",
       "  </thead>\n",
       "  <tbody>\n",
       "    <tr>\n",
       "      <td>count</td>\n",
       "      <td>303.000000</td>\n",
       "      <td>303.000000</td>\n",
       "      <td>303.000000</td>\n",
       "      <td>303.000000</td>\n",
       "      <td>303.000000</td>\n",
       "      <td>303.000000</td>\n",
       "      <td>303.000000</td>\n",
       "      <td>303.000000</td>\n",
       "      <td>303.000000</td>\n",
       "      <td>303.000000</td>\n",
       "      <td>303.000000</td>\n",
       "      <td>303.000000</td>\n",
       "      <td>303.000000</td>\n",
       "      <td>303.000000</td>\n",
       "    </tr>\n",
       "    <tr>\n",
       "      <td>mean</td>\n",
       "      <td>54.366337</td>\n",
       "      <td>0.683168</td>\n",
       "      <td>0.966997</td>\n",
       "      <td>131.623762</td>\n",
       "      <td>246.264026</td>\n",
       "      <td>0.148515</td>\n",
       "      <td>0.528053</td>\n",
       "      <td>149.646865</td>\n",
       "      <td>0.326733</td>\n",
       "      <td>1.039604</td>\n",
       "      <td>1.399340</td>\n",
       "      <td>0.729373</td>\n",
       "      <td>2.313531</td>\n",
       "      <td>0.544554</td>\n",
       "    </tr>\n",
       "    <tr>\n",
       "      <td>std</td>\n",
       "      <td>9.082101</td>\n",
       "      <td>0.466011</td>\n",
       "      <td>1.032052</td>\n",
       "      <td>17.538143</td>\n",
       "      <td>51.830751</td>\n",
       "      <td>0.356198</td>\n",
       "      <td>0.525860</td>\n",
       "      <td>22.905161</td>\n",
       "      <td>0.469794</td>\n",
       "      <td>1.161075</td>\n",
       "      <td>0.616226</td>\n",
       "      <td>1.022606</td>\n",
       "      <td>0.612277</td>\n",
       "      <td>0.498835</td>\n",
       "    </tr>\n",
       "    <tr>\n",
       "      <td>min</td>\n",
       "      <td>29.000000</td>\n",
       "      <td>0.000000</td>\n",
       "      <td>0.000000</td>\n",
       "      <td>94.000000</td>\n",
       "      <td>126.000000</td>\n",
       "      <td>0.000000</td>\n",
       "      <td>0.000000</td>\n",
       "      <td>71.000000</td>\n",
       "      <td>0.000000</td>\n",
       "      <td>0.000000</td>\n",
       "      <td>0.000000</td>\n",
       "      <td>0.000000</td>\n",
       "      <td>0.000000</td>\n",
       "      <td>0.000000</td>\n",
       "    </tr>\n",
       "    <tr>\n",
       "      <td>25%</td>\n",
       "      <td>47.500000</td>\n",
       "      <td>0.000000</td>\n",
       "      <td>0.000000</td>\n",
       "      <td>120.000000</td>\n",
       "      <td>211.000000</td>\n",
       "      <td>0.000000</td>\n",
       "      <td>0.000000</td>\n",
       "      <td>133.500000</td>\n",
       "      <td>0.000000</td>\n",
       "      <td>0.000000</td>\n",
       "      <td>1.000000</td>\n",
       "      <td>0.000000</td>\n",
       "      <td>2.000000</td>\n",
       "      <td>0.000000</td>\n",
       "    </tr>\n",
       "    <tr>\n",
       "      <td>50%</td>\n",
       "      <td>55.000000</td>\n",
       "      <td>1.000000</td>\n",
       "      <td>1.000000</td>\n",
       "      <td>130.000000</td>\n",
       "      <td>240.000000</td>\n",
       "      <td>0.000000</td>\n",
       "      <td>1.000000</td>\n",
       "      <td>153.000000</td>\n",
       "      <td>0.000000</td>\n",
       "      <td>0.800000</td>\n",
       "      <td>1.000000</td>\n",
       "      <td>0.000000</td>\n",
       "      <td>2.000000</td>\n",
       "      <td>1.000000</td>\n",
       "    </tr>\n",
       "    <tr>\n",
       "      <td>75%</td>\n",
       "      <td>61.000000</td>\n",
       "      <td>1.000000</td>\n",
       "      <td>2.000000</td>\n",
       "      <td>140.000000</td>\n",
       "      <td>274.500000</td>\n",
       "      <td>0.000000</td>\n",
       "      <td>1.000000</td>\n",
       "      <td>166.000000</td>\n",
       "      <td>1.000000</td>\n",
       "      <td>1.600000</td>\n",
       "      <td>2.000000</td>\n",
       "      <td>1.000000</td>\n",
       "      <td>3.000000</td>\n",
       "      <td>1.000000</td>\n",
       "    </tr>\n",
       "    <tr>\n",
       "      <td>max</td>\n",
       "      <td>77.000000</td>\n",
       "      <td>1.000000</td>\n",
       "      <td>3.000000</td>\n",
       "      <td>200.000000</td>\n",
       "      <td>564.000000</td>\n",
       "      <td>1.000000</td>\n",
       "      <td>2.000000</td>\n",
       "      <td>202.000000</td>\n",
       "      <td>1.000000</td>\n",
       "      <td>6.200000</td>\n",
       "      <td>2.000000</td>\n",
       "      <td>4.000000</td>\n",
       "      <td>3.000000</td>\n",
       "      <td>1.000000</td>\n",
       "    </tr>\n",
       "  </tbody>\n",
       "</table>\n",
       "</div>"
      ],
      "text/plain": [
       "              age         sex  chest_pain_type  resting_blood_pressure  \\\n",
       "count  303.000000  303.000000       303.000000              303.000000   \n",
       "mean    54.366337    0.683168         0.966997              131.623762   \n",
       "std      9.082101    0.466011         1.032052               17.538143   \n",
       "min     29.000000    0.000000         0.000000               94.000000   \n",
       "25%     47.500000    0.000000         0.000000              120.000000   \n",
       "50%     55.000000    1.000000         1.000000              130.000000   \n",
       "75%     61.000000    1.000000         2.000000              140.000000   \n",
       "max     77.000000    1.000000         3.000000              200.000000   \n",
       "\n",
       "       serum_cholestoral  fasting_blood_sugar>120  \\\n",
       "count         303.000000               303.000000   \n",
       "mean          246.264026                 0.148515   \n",
       "std            51.830751                 0.356198   \n",
       "min           126.000000                 0.000000   \n",
       "25%           211.000000                 0.000000   \n",
       "50%           240.000000                 0.000000   \n",
       "75%           274.500000                 0.000000   \n",
       "max           564.000000                 1.000000   \n",
       "\n",
       "       electrocardiographic_results  max_heart_rate  excercise_induced_angina  \\\n",
       "count                    303.000000      303.000000                303.000000   \n",
       "mean                       0.528053      149.646865                  0.326733   \n",
       "std                        0.525860       22.905161                  0.469794   \n",
       "min                        0.000000       71.000000                  0.000000   \n",
       "25%                        0.000000      133.500000                  0.000000   \n",
       "50%                        1.000000      153.000000                  0.000000   \n",
       "75%                        1.000000      166.000000                  1.000000   \n",
       "max                        2.000000      202.000000                  1.000000   \n",
       "\n",
       "       st_depression_while resting  excercise_st_segment_slope  \\\n",
       "count                   303.000000                  303.000000   \n",
       "mean                      1.039604                    1.399340   \n",
       "std                       1.161075                    0.616226   \n",
       "min                       0.000000                    0.000000   \n",
       "25%                       0.000000                    1.000000   \n",
       "50%                       0.800000                    1.000000   \n",
       "75%                       1.600000                    2.000000   \n",
       "max                       6.200000                    2.000000   \n",
       "\n",
       "       flouroscopy_colored_vessels  defect_type  has_heart_disease  \n",
       "count                   303.000000   303.000000         303.000000  \n",
       "mean                      0.729373     2.313531           0.544554  \n",
       "std                       1.022606     0.612277           0.498835  \n",
       "min                       0.000000     0.000000           0.000000  \n",
       "25%                       0.000000     2.000000           0.000000  \n",
       "50%                       0.000000     2.000000           1.000000  \n",
       "75%                       1.000000     3.000000           1.000000  \n",
       "max                       4.000000     3.000000           1.000000  "
      ]
     },
     "execution_count": 3,
     "metadata": {},
     "output_type": "execute_result"
    }
   ],
   "source": [
    "df.describe()"
   ]
  },
  {
   "cell_type": "markdown",
   "metadata": {},
   "source": [
    "### Displaying the distributions of features and finding categorical variables"
   ]
  },
  {
   "cell_type": "code",
   "execution_count": 4,
   "metadata": {},
   "outputs": [
    {
     "data": {
      "image/png": "[encoded data removed]",
      "text/plain": [
       "<Figure size 1440x216 with 14 Axes>"
      ]
     },
     "metadata": {},
     "output_type": "display_data"
    }
   ],
   "source": [
    "import seaborn as sns\n",
    "import matplotlib.pyplot as plt\n",
    "%matplotlib inline\n",
    "plt.rcParams[\"figure.figsize\"] = (20,3)\n",
    "sns.set_theme(style=\"whitegrid\")\n",
    "\n",
    "_, axes = plt.subplots(2, 7)\n",
    "\n",
    "for i, col in enumerate(df.columns):\n",
    "    sns.histplot(data=df, x=col, ax=axes[i // 7, i % 7])\n",
    "plt.tight_layout()"
   ]
  },
  {
   "cell_type": "code",
   "execution_count": 5,
   "metadata": {},
   "outputs": [
    {
     "name": "stdout",
     "output_type": "stream",
     "text": [
      "Column: Unique categorical values\n",
      "sex: [1 0]\n",
      "chest_pain_type: [3 2 1 0]\n",
      "fasting_blood_sugar>120: [1 0]\n",
      "electrocardiographic_results: [0 1 2]\n",
      "excercise_induced_angina: [0 1]\n",
      "excercise_st_segment_slope: [0 2 1]\n",
      "flouroscopy_colored_vessels: [0 2 1 3 4]\n",
      "defect_type: [1 2 3 0]\n",
      "has_heart_disease: [1 0]\n"
     ]
    }
   ],
   "source": [
    "print(\"Column: Unique categorical values\")\n",
    "for col in ['sex', 'chest_pain_type', 'fasting_blood_sugar>120', 'electrocardiographic_results', 'excercise_induced_angina', 'excercise_st_segment_slope', \n",
    "            'flouroscopy_colored_vessels', 'defect_type', 'has_heart_disease']:\n",
    "    print(f\"{col}: {df[col].unique()}\")"
   ]
  },
  {
   "cell_type": "markdown",
   "metadata": {},
   "source": [
    "### What age group is most at risk of heart disease?"
   ]
  },
  {
   "cell_type": "code",
   "execution_count": 6,
   "metadata": {},
   "outputs": [
    {
     "data": {
      "text/plain": [
       "Text(0.5, 1.0, 'Age groups of heart disease')"
      ]
     },
     "execution_count": 6,
     "metadata": {},
     "output_type": "execute_result"
    },
    {
     "data": {
      "image/png": "[encoded data removed]",
      "text/plain": [
       "<Figure size 864x504 with 1 Axes>"
      ]
     },
     "metadata": {
      "needs_background": "light"
     },
     "output_type": "display_data"
    }
   ],
   "source": [
    "plt.rcParams[\"figure.figsize\"] = (12,7)\n",
    "graph = sns.histplot(df[df['has_heart_disease'] == 1], x='age', bins=[20, 30, 40, 50, 60, 70, 80])\n",
    "graph.set_title('Age groups of heart disease')"
   ]
  },
  {
   "cell_type": "code",
   "execution_count": 11,
   "metadata": {},
   "outputs": [
    {
     "data": {
      "image/png": "[encoded data removed]",
      "text/plain": [
       "<Figure size 864x504 with 1 Axes>"
      ]
     },
     "metadata": {
      "needs_background": "light"
     },
     "output_type": "display_data"
    }
   ],
   "source": [
    "import numpy as np\n",
    "\n",
    "df['age_bins'] = df['age'].apply(lambda x: (x // 10) * 10)\n",
    "\n",
    "graph = sns.barplot(data=df, x='age_bins', y='has_heart_disease')\n",
    "graph.set_title('Heart disease rate for different age groups')"
   ]
  }
 ],
 "metadata": {
  "kernelspec": {
   "display_name": "Python 3",
   "language": "python",
   "name": "python3"
  },
  "language_info": {
   "codemirror_mode": {
    "name": "ipython",
    "version": 3
   },
   "file_extension": ".py",
   "mimetype": "text/x-python",
   "name": "python",
   "nbconvert_exporter": "python",
   "pygments_lexer": "ipython3",
   "version": "3.7.4"
  }
 },
 "nbformat": 4,
 "nbformat_minor": 4
}
